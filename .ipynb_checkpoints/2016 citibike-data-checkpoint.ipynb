{
 "cells": [
  {
   "cell_type": "code",
   "execution_count": null,
   "metadata": {},
   "outputs": [],
   "source": [
    "from zipfile import ZipFile\n",
    "from urllib.request import urlopen   \n",
    "import pandas as pd\n",
    "import os\n",
    "\n",
    "URLs = ['https://s3.amazonaws.com/tripdata/201601-citibike-tripdata.zip',\\\n",
    "       'https://s3.amazonaws.com/tripdata/201602-citibike-tripdata.zip',\\\n",
    "       'https://s3.amazonaws.com/tripdata/201603-citibike-tripdata.zip',\\\n",
    "        'https://s3.amazonaws.com/tripdata/201604-citibike-tripdata.zip',\\\n",
    "        'https://s3.amazonaws.com/tripdata/201605-citibike-tripdata.zip',\\\n",
    "        'https://s3.amazonaws.com/tripdata/201606-citibike-tripdata.zip',\\\n",
    "        'https://s3.amazonaws.com/tripdata/201607-citibike-tripdata.zip',\\\n",
    "        'https://s3.amazonaws.com/tripdata/201608-citibike-tripdata.zip',\\\n",
    "        'https://s3.amazonaws.com/tripdata/201609-citibike-tripdata.zip',\\\n",
    "        'https://s3.amazonaws.com/tripdata/201610-citibike-tripdata.zip',\\\n",
    "        'https://s3.amazonaws.com/tripdata/201611-citibike-tripdata.zip',\\\n",
    "        'https://s3.amazonaws.com/tripdata/201612-citibike-tripdata.zip']\n",
    "       \n",
    "dfs=[]\n",
    "for URL in URLs:\n",
    "# open and save the zip file onto computer\n",
    "    url = urlopen(URL)\n",
    "    output = open('zipFile.zip', 'wb')    # note the flag:  \"wb\"        \n",
    "    output.write(url.read())\n",
    "    output.close()\n",
    "\n",
    "# read the zip file as a pandas dataframe\n",
    "    df = pd.read_csv('zipFile.zip')      \n",
    "    dfs.append(df)\n",
    "# if keeping on disk the zip file is not wanted, then:\n",
    "#os.remove(201307-citibike-tripdata.zip)   # remove the copy of the zipfile on disk"
   ]
  },
  {
   "cell_type": "code",
   "execution_count": null,
   "metadata": {},
   "outputs": [],
   "source": [
    "dfs[1].head(5)"
   ]
  },
  {
   "cell_type": "code",
   "execution_count": null,
   "metadata": {},
   "outputs": [],
   "source": [
    "dfs[0].head(5)"
   ]
  },
  {
   "cell_type": "code",
   "execution_count": null,
   "metadata": {},
   "outputs": [],
   "source": [
    "dfs[8].head(5)"
   ]
  },
  {
   "cell_type": "code",
   "execution_count": null,
   "metadata": {},
   "outputs": [],
   "source": [
    "dfs[8].columns "
   ]
  },
  {
   "cell_type": "code",
   "execution_count": null,
   "metadata": {},
   "outputs": [],
   "source": [
    "dfs[9].head(5)"
   ]
  },
  {
   "cell_type": "code",
   "execution_count": null,
   "metadata": {},
   "outputs": [],
   "source": [
    "dfs[9].columns = ['tripduration', 'starttime', 'stoptime', 'start station id',\n",
    "       'start station name', 'start station latitude',\n",
    "       'start station longitude', 'end station id', 'end station name',\n",
    "       'end station latitude', 'end station longitude', 'bikeid', 'usertype',\n",
    "       'birth year', 'gender']"
   ]
  },
  {
   "cell_type": "code",
   "execution_count": null,
   "metadata": {},
   "outputs": [],
   "source": [
    "dfs[10].columns = ['tripduration', 'starttime', 'stoptime', 'start station id',\n",
    "       'start station name', 'start station latitude',\n",
    "       'start station longitude', 'end station id', 'end station name',\n",
    "       'end station latitude', 'end station longitude', 'bikeid', 'usertype',\n",
    "       'birth year', 'gender']"
   ]
  },
  {
   "cell_type": "code",
   "execution_count": null,
   "metadata": {},
   "outputs": [],
   "source": [
    "dfs[11].columns = ['tripduration', 'starttime', 'stoptime', 'start station id',\n",
    "       'start station name', 'start station latitude',\n",
    "       'start station longitude', 'end station id', 'end station name',\n",
    "       'end station latitude', 'end station longitude', 'bikeid', 'usertype',\n",
    "       'birth year', 'gender']"
   ]
  },
  {
   "cell_type": "code",
   "execution_count": null,
   "metadata": {},
   "outputs": [],
   "source": [
    "dfs[10].head(2)"
   ]
  },
  {
   "cell_type": "code",
   "execution_count": null,
   "metadata": {},
   "outputs": [],
   "source": [
    "print('Converting month:')\n",
    "for month in range(12):\n",
    "    if month > 8 :\n",
    "        print('... ' + str(month + 1))\n",
    "        dfs[month]['starttime'] = pd.to_datetime(dfs[month]['starttime'])\n",
    "        dfs[month]['stoptime'] = pd.to_datetime(dfs[month]['stoptime'])\n",
    "        \n",
    "    else: \n",
    "        print('... ' + str(month + 1))\n",
    "        dfs[month]['starttime'] = pd.to_datetime(dfs[month]['starttime'],\n",
    "                                                 format = '%m/%d/%Y %H:%M:%S')\n",
    "        dfs[month]['stoptime'] = pd.to_datetime(dfs[month]['stoptime'],\n",
    "                                                format = '%m/%d/%Y %H:%M:%S')\n",
    "    \n",
    "\n",
    "        "
   ]
  },
  {
   "cell_type": "code",
   "execution_count": null,
   "metadata": {},
   "outputs": [],
   "source": [
    "dfs[11].head(2)"
   ]
  },
  {
   "cell_type": "code",
   "execution_count": null,
   "metadata": {},
   "outputs": [],
   "source": [
    "\n",
    "df = pd.concat(dfs)\n",
    "df"
   ]
  },
  {
   "cell_type": "code",
   "execution_count": null,
   "metadata": {},
   "outputs": [],
   "source": [
    "df.shape"
   ]
  },
  {
   "cell_type": "code",
   "execution_count": null,
   "metadata": {},
   "outputs": [],
   "source": [
    "df.to_csv('Data/citibike_2016.csv', encoding='utf-8', index=False)"
   ]
  },
  {
   "cell_type": "code",
   "execution_count": null,
   "metadata": {},
   "outputs": [],
   "source": []
  },
  {
   "cell_type": "code",
   "execution_count": null,
   "metadata": {},
   "outputs": [],
   "source": []
  }
 ],
 "metadata": {
  "kernelspec": {
   "display_name": "Python 3",
   "language": "python",
   "name": "python3"
  },
  "language_info": {
   "codemirror_mode": {
    "name": "ipython",
    "version": 3
   },
   "file_extension": ".py",
   "mimetype": "text/x-python",
   "name": "python",
   "nbconvert_exporter": "python",
   "pygments_lexer": "ipython3",
   "version": "3.6.4"
  }
 },
 "nbformat": 4,
 "nbformat_minor": 2
}
