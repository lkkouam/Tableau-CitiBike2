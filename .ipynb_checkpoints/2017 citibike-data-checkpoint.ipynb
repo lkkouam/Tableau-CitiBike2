{
 "cells": [
  {
   "cell_type": "code",
   "execution_count": null,
   "metadata": {},
   "outputs": [],
   "source": [
    "from zipfile import ZipFile\n",
    "from urllib.request import urlopen   \n",
    "import pandas as pd\n",
    "import os\n",
    "\n",
    "URLs = ['https://s3.amazonaws.com/tripdata/201701-citibike-tripdata.csv.zip',\\\n",
    "        'https://s3.amazonaws.com/tripdata/201702-citibike-tripdata.csv.zip',\\\n",
    "        'https://s3.amazonaws.com/tripdata/201703-citibike-tripdata.csv.zip',\\\n",
    "        'https://s3.amazonaws.com/tripdata/201704-citibike-tripdata.csv.zip',\\\n",
    "        'https://s3.amazonaws.com/tripdata/201705-citibike-tripdata.csv.zip',\\\n",
    "        'https://s3.amazonaws.com/tripdata/201706-citibike-tripdata.csv.zip',\\\n",
    "        'https://s3.amazonaws.com/tripdata/201707-citibike-tripdata.csv.zip',\\\n",
    "        'https://s3.amazonaws.com/tripdata/201708-citibike-tripdata.csv.zip',\\\n",
    "        'https://s3.amazonaws.com/tripdata/201709-citibike-tripdata.csv.zip',\\\n",
    "        'https://s3.amazonaws.com/tripdata/201710-citibike-tripdata.csv.zip',\\\n",
    "        'https://s3.amazonaws.com/tripdata/201711-citibike-tripdata.csv.zip',\\\n",
    "        'https://s3.amazonaws.com/tripdata/201712-citibike-tripdata.csv.zip']\n",
    "       \n",
    "       \n",
    "dfs=[]\n",
    "for URL in URLs:\n",
    "# open and save the zip file onto computer\n",
    "    url = urlopen(URL)\n",
    "    output = open('zipFile.zip', 'wb')    # note the flag:  \"wb\"        \n",
    "    output.write(url.read())\n",
    "    output.close()\n",
    "\n",
    "# read the zip file as a pandas dataframe\n",
    "    df = pd.read_csv('zipFile.zip')      \n",
    "    dfs.append(df)\n",
    "# if keeping on disk the zip file is not wanted, then:\n",
    "#os.remove(201307-citibike-tripdata.zip)   # remove the copy of the zipfile on disk"
   ]
  },
  {
   "cell_type": "code",
   "execution_count": null,
   "metadata": {},
   "outputs": [],
   "source": [
    "dfs[2].head(5)"
   ]
  },
  {
   "cell_type": "code",
   "execution_count": null,
   "metadata": {},
   "outputs": [],
   "source": [
    "dfs[0].columns = ['tripduration', 'starttime', 'stoptime', 'start station id',\n",
    "       'start station name', 'start station latitude',\n",
    "       'start station longitude', 'end station id', 'end station name',\n",
    "       'end station latitude', 'end station longitude', 'bikeid', 'usertype',\n",
    "       'birth year', 'gender']"
   ]
  },
  {
   "cell_type": "code",
   "execution_count": null,
   "metadata": {},
   "outputs": [],
   "source": [
    "dfs[1].columns = ['tripduration', 'starttime', 'stoptime', 'start station id',\n",
    "       'start station name', 'start station latitude',\n",
    "       'start station longitude', 'end station id', 'end station name',\n",
    "       'end station latitude', 'end station longitude', 'bikeid', 'usertype',\n",
    "       'birth year', 'gender']"
   ]
  },
  {
   "cell_type": "code",
   "execution_count": null,
   "metadata": {},
   "outputs": [],
   "source": [
    "dfs[2].columns = ['tripduration', 'starttime', 'stoptime', 'start station id',\n",
    "       'start station name', 'start station latitude',\n",
    "       'start station longitude', 'end station id', 'end station name',\n",
    "       'end station latitude', 'end station longitude', 'bikeid', 'usertype',\n",
    "       'birth year', 'gender']"
   ]
  },
  {
   "cell_type": "code",
   "execution_count": null,
   "metadata": {},
   "outputs": [],
   "source": [
    "dfs[0].head(2)"
   ]
  },
  {
   "cell_type": "code",
   "execution_count": null,
   "metadata": {},
   "outputs": [],
   "source": [
    "print('Converting month:')\n",
    "for month in range(12):\n",
    "    print('... ' + str(month + 1))\n",
    "    dfs[month]['starttime'] = pd.to_datetime(dfs[month]['starttime'])\n",
    "    dfs[month]['stoptime'] = pd.to_datetime(dfs[month]['stoptime'])\n",
    "        "
   ]
  },
  {
   "cell_type": "code",
   "execution_count": null,
   "metadata": {},
   "outputs": [],
   "source": [
    "\n",
    "df = pd.concat(dfs)\n",
    "df"
   ]
  },
  {
   "cell_type": "code",
   "execution_count": null,
   "metadata": {},
   "outputs": [],
   "source": [
    "df.shape"
   ]
  },
  {
   "cell_type": "code",
   "execution_count": null,
   "metadata": {},
   "outputs": [],
   "source": [
    "df.to_csv('Data/citibike_2017.csv', encoding='utf-8', index=False)"
   ]
  },
  {
   "cell_type": "code",
   "execution_count": null,
   "metadata": {},
   "outputs": [],
   "source": []
  },
  {
   "cell_type": "code",
   "execution_count": null,
   "metadata": {},
   "outputs": [],
   "source": []
  }
 ],
 "metadata": {
  "kernelspec": {
   "display_name": "Python 3",
   "language": "python",
   "name": "python3"
  },
  "language_info": {
   "codemirror_mode": {
    "name": "ipython",
    "version": 3
   },
   "file_extension": ".py",
   "mimetype": "text/x-python",
   "name": "python",
   "nbconvert_exporter": "python",
   "pygments_lexer": "ipython3",
   "version": "3.6.4"
  }
 },
 "nbformat": 4,
 "nbformat_minor": 2
}
